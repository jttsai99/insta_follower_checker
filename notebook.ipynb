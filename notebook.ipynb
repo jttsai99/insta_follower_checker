{
 "cells": [
  {
   "cell_type": "code",
   "execution_count": 1,
   "metadata": {},
   "outputs": [],
   "source": [
    "import pandas as pd\n",
    "import numpy as np\n",
    "import json\n",
    "#import streamlit"
   ]
  },
  {
   "cell_type": "markdown",
   "metadata": {},
   "source": [
    "## Read in Followers"
   ]
  },
  {
   "cell_type": "code",
   "execution_count": 2,
   "metadata": {},
   "outputs": [],
   "source": [
    "# Load the JSON file into a Python object\n",
    "with open('data/connections/followers_and_following/followers_1.json', 'r') as f:\n",
    "    data = json.load(f)\n",
    "# Create a Pandas DataFrame from the Python object\n",
    "followers_df = pd.json_normalize(data, record_path='string_list_data')\n",
    "# Convert the Unix time column to Pandas datetime\n",
    "followers_df['timestamp'] = pd.to_datetime(followers_df['timestamp'], unit='s')\n",
    "\n",
    "# Rename columns\n",
    "followers_df.columns = ['user_link', 'user_id', 'timestamp']\n",
    "# Reorder the columns\n",
    "followers_df = followers_df[['user_id', 'user_link','timestamp']]"
   ]
  },
  {
   "cell_type": "code",
   "execution_count": 3,
   "metadata": {},
   "outputs": [
    {
     "data": {
      "text/html": [
       "<div>\n",
       "<style scoped>\n",
       "    .dataframe tbody tr th:only-of-type {\n",
       "        vertical-align: middle;\n",
       "    }\n",
       "\n",
       "    .dataframe tbody tr th {\n",
       "        vertical-align: top;\n",
       "    }\n",
       "\n",
       "    .dataframe thead th {\n",
       "        text-align: right;\n",
       "    }\n",
       "</style>\n",
       "<table border=\"1\" class=\"dataframe\">\n",
       "  <thead>\n",
       "    <tr style=\"text-align: right;\">\n",
       "      <th></th>\n",
       "      <th>user_id</th>\n",
       "      <th>user_link</th>\n",
       "      <th>timestamp</th>\n",
       "    </tr>\n",
       "  </thead>\n",
       "  <tbody>\n",
       "    <tr>\n",
       "      <th>0</th>\n",
       "      <td>pablog_9</td>\n",
       "      <td>https://www.instagram.com/pablog_9</td>\n",
       "      <td>2024-01-28 02:42:39</td>\n",
       "    </tr>\n",
       "    <tr>\n",
       "      <th>1</th>\n",
       "      <td>helenaz_0831</td>\n",
       "      <td>https://www.instagram.com/helenaz_0831</td>\n",
       "      <td>2024-01-26 23:34:08</td>\n",
       "    </tr>\n",
       "    <tr>\n",
       "      <th>2</th>\n",
       "      <td>tim_rickli</td>\n",
       "      <td>https://www.instagram.com/tim_rickli</td>\n",
       "      <td>2024-01-26 12:22:03</td>\n",
       "    </tr>\n",
       "    <tr>\n",
       "      <th>3</th>\n",
       "      <td>miels482</td>\n",
       "      <td>https://www.instagram.com/miels482</td>\n",
       "      <td>2024-01-20 15:05:32</td>\n",
       "    </tr>\n",
       "    <tr>\n",
       "      <th>4</th>\n",
       "      <td>ew4.jpg</td>\n",
       "      <td>https://www.instagram.com/ew4.jpg</td>\n",
       "      <td>2024-01-20 15:05:30</td>\n",
       "    </tr>\n",
       "    <tr>\n",
       "      <th>...</th>\n",
       "      <td>...</td>\n",
       "      <td>...</td>\n",
       "      <td>...</td>\n",
       "    </tr>\n",
       "    <tr>\n",
       "      <th>436</th>\n",
       "      <td>xns000</td>\n",
       "      <td>https://www.instagram.com/xns000</td>\n",
       "      <td>2016-10-14 14:33:20</td>\n",
       "    </tr>\n",
       "    <tr>\n",
       "      <th>437</th>\n",
       "      <td>hanson930618</td>\n",
       "      <td>https://www.instagram.com/hanson930618</td>\n",
       "      <td>2016-10-06 14:58:12</td>\n",
       "    </tr>\n",
       "    <tr>\n",
       "      <th>438</th>\n",
       "      <td>sarrrrrraaaahhh</td>\n",
       "      <td>https://www.instagram.com/sarrrrrraaaahhh</td>\n",
       "      <td>2016-09-23 17:02:52</td>\n",
       "    </tr>\n",
       "    <tr>\n",
       "      <th>439</th>\n",
       "      <td>tomlinson.jared_</td>\n",
       "      <td>https://www.instagram.com/tomlinson.jared_</td>\n",
       "      <td>2016-09-22 06:33:55</td>\n",
       "    </tr>\n",
       "    <tr>\n",
       "      <th>440</th>\n",
       "      <td>ethan_parajon</td>\n",
       "      <td>https://www.instagram.com/ethan_parajon</td>\n",
       "      <td>2016-09-20 14:50:29</td>\n",
       "    </tr>\n",
       "  </tbody>\n",
       "</table>\n",
       "<p>441 rows × 3 columns</p>\n",
       "</div>"
      ],
      "text/plain": [
       "              user_id                                   user_link  \\\n",
       "0            pablog_9          https://www.instagram.com/pablog_9   \n",
       "1        helenaz_0831      https://www.instagram.com/helenaz_0831   \n",
       "2          tim_rickli        https://www.instagram.com/tim_rickli   \n",
       "3            miels482          https://www.instagram.com/miels482   \n",
       "4             ew4.jpg           https://www.instagram.com/ew4.jpg   \n",
       "..                ...                                         ...   \n",
       "436            xns000            https://www.instagram.com/xns000   \n",
       "437      hanson930618      https://www.instagram.com/hanson930618   \n",
       "438   sarrrrrraaaahhh   https://www.instagram.com/sarrrrrraaaahhh   \n",
       "439  tomlinson.jared_  https://www.instagram.com/tomlinson.jared_   \n",
       "440     ethan_parajon     https://www.instagram.com/ethan_parajon   \n",
       "\n",
       "              timestamp  \n",
       "0   2024-01-28 02:42:39  \n",
       "1   2024-01-26 23:34:08  \n",
       "2   2024-01-26 12:22:03  \n",
       "3   2024-01-20 15:05:32  \n",
       "4   2024-01-20 15:05:30  \n",
       "..                  ...  \n",
       "436 2016-10-14 14:33:20  \n",
       "437 2016-10-06 14:58:12  \n",
       "438 2016-09-23 17:02:52  \n",
       "439 2016-09-22 06:33:55  \n",
       "440 2016-09-20 14:50:29  \n",
       "\n",
       "[441 rows x 3 columns]"
      ]
     },
     "execution_count": 3,
     "metadata": {},
     "output_type": "execute_result"
    }
   ],
   "source": [
    "followers_df"
   ]
  },
  {
   "cell_type": "markdown",
   "metadata": {},
   "source": [
    "# Read in Following"
   ]
  },
  {
   "cell_type": "code",
   "execution_count": 4,
   "metadata": {},
   "outputs": [],
   "source": [
    "import json\n",
    "import pandas as pd\n",
    "\n",
    "# Load the JSON file as a dictionary\n",
    "with open(\"data/connections/followers_and_following/following.json\", \"r\") as f:\n",
    "    data = json.load(f)\n",
    "\n",
    "# Create an empty list to store the string_list_data\n",
    "temp_data = []\n",
    "\n",
    "# Loop through the relationships_following key in the data dictionary\n",
    "for item in data[\"relationships_following\"]:\n",
    "    # Append the string_list_data value to the list\n",
    "    temp_data.append(item[\"string_list_data\"])\n",
    "\n",
    "# Flatten the list of lists into a single list\n",
    "temp_data = [x for sublist in temp_data for x in sublist]\n",
    "\n",
    "# Convert the list into a pandas dataframe\n",
    "following_df = pd.DataFrame(temp_data)\n",
    "\n",
    "# Convert the Unix time column to Pandas datetime\n",
    "following_df['timestamp'] = pd.to_datetime(following_df['timestamp'], unit='s')\n",
    "\n",
    "# Rename columns\n",
    "following_df.columns = ['user_link', 'user_id', 'timestamp']\n",
    "# Reorder the columns\n",
    "following_df = following_df[['user_id', 'user_link','timestamp']]\n"
   ]
  },
  {
   "cell_type": "code",
   "execution_count": 5,
   "metadata": {},
   "outputs": [
    {
     "data": {
      "text/html": [
       "<div>\n",
       "<style scoped>\n",
       "    .dataframe tbody tr th:only-of-type {\n",
       "        vertical-align: middle;\n",
       "    }\n",
       "\n",
       "    .dataframe tbody tr th {\n",
       "        vertical-align: top;\n",
       "    }\n",
       "\n",
       "    .dataframe thead th {\n",
       "        text-align: right;\n",
       "    }\n",
       "</style>\n",
       "<table border=\"1\" class=\"dataframe\">\n",
       "  <thead>\n",
       "    <tr style=\"text-align: right;\">\n",
       "      <th></th>\n",
       "      <th>user_id</th>\n",
       "      <th>user_link</th>\n",
       "      <th>timestamp</th>\n",
       "    </tr>\n",
       "  </thead>\n",
       "  <tbody>\n",
       "    <tr>\n",
       "      <th>0</th>\n",
       "      <td>pablog_9</td>\n",
       "      <td>https://www.instagram.com/pablog_9</td>\n",
       "      <td>2024-01-28 06:22:00</td>\n",
       "    </tr>\n",
       "    <tr>\n",
       "      <th>1</th>\n",
       "      <td>helenaz_0831</td>\n",
       "      <td>https://www.instagram.com/helenaz_0831</td>\n",
       "      <td>2024-01-26 23:28:11</td>\n",
       "    </tr>\n",
       "    <tr>\n",
       "      <th>2</th>\n",
       "      <td>tim_rickli</td>\n",
       "      <td>https://www.instagram.com/tim_rickli</td>\n",
       "      <td>2024-01-26 12:14:43</td>\n",
       "    </tr>\n",
       "    <tr>\n",
       "      <th>3</th>\n",
       "      <td>miels482</td>\n",
       "      <td>https://www.instagram.com/miels482</td>\n",
       "      <td>2024-01-20 15:05:21</td>\n",
       "    </tr>\n",
       "    <tr>\n",
       "      <th>4</th>\n",
       "      <td>ew4.jpg</td>\n",
       "      <td>https://www.instagram.com/ew4.jpg</td>\n",
       "      <td>2024-01-20 14:55:43</td>\n",
       "    </tr>\n",
       "    <tr>\n",
       "      <th>...</th>\n",
       "      <td>...</td>\n",
       "      <td>...</td>\n",
       "      <td>...</td>\n",
       "    </tr>\n",
       "    <tr>\n",
       "      <th>422</th>\n",
       "      <td>biancaaroses</td>\n",
       "      <td>https://www.instagram.com/biancaaroses</td>\n",
       "      <td>2016-10-14 18:58:55</td>\n",
       "    </tr>\n",
       "    <tr>\n",
       "      <th>423</th>\n",
       "      <td>sexy_parmesan_cheese</td>\n",
       "      <td>https://www.instagram.com/sexy_parmesan_cheese</td>\n",
       "      <td>2016-10-14 14:39:05</td>\n",
       "    </tr>\n",
       "    <tr>\n",
       "      <th>424</th>\n",
       "      <td>schlegelsbagel</td>\n",
       "      <td>https://www.instagram.com/schlegelsbagel</td>\n",
       "      <td>2016-10-14 14:37:42</td>\n",
       "    </tr>\n",
       "    <tr>\n",
       "      <th>425</th>\n",
       "      <td>sarrrrrraaaahhh</td>\n",
       "      <td>https://www.instagram.com/sarrrrrraaaahhh</td>\n",
       "      <td>2016-09-23 17:03:07</td>\n",
       "    </tr>\n",
       "    <tr>\n",
       "      <th>426</th>\n",
       "      <td>tomlinson.jared_</td>\n",
       "      <td>https://www.instagram.com/tomlinson.jared_</td>\n",
       "      <td>2016-09-22 06:39:43</td>\n",
       "    </tr>\n",
       "  </tbody>\n",
       "</table>\n",
       "<p>427 rows × 3 columns</p>\n",
       "</div>"
      ],
      "text/plain": [
       "                  user_id                                       user_link  \\\n",
       "0                pablog_9              https://www.instagram.com/pablog_9   \n",
       "1            helenaz_0831          https://www.instagram.com/helenaz_0831   \n",
       "2              tim_rickli            https://www.instagram.com/tim_rickli   \n",
       "3                miels482              https://www.instagram.com/miels482   \n",
       "4                 ew4.jpg               https://www.instagram.com/ew4.jpg   \n",
       "..                    ...                                             ...   \n",
       "422          biancaaroses          https://www.instagram.com/biancaaroses   \n",
       "423  sexy_parmesan_cheese  https://www.instagram.com/sexy_parmesan_cheese   \n",
       "424        schlegelsbagel        https://www.instagram.com/schlegelsbagel   \n",
       "425       sarrrrrraaaahhh       https://www.instagram.com/sarrrrrraaaahhh   \n",
       "426      tomlinson.jared_      https://www.instagram.com/tomlinson.jared_   \n",
       "\n",
       "              timestamp  \n",
       "0   2024-01-28 06:22:00  \n",
       "1   2024-01-26 23:28:11  \n",
       "2   2024-01-26 12:14:43  \n",
       "3   2024-01-20 15:05:21  \n",
       "4   2024-01-20 14:55:43  \n",
       "..                  ...  \n",
       "422 2016-10-14 18:58:55  \n",
       "423 2016-10-14 14:39:05  \n",
       "424 2016-10-14 14:37:42  \n",
       "425 2016-09-23 17:03:07  \n",
       "426 2016-09-22 06:39:43  \n",
       "\n",
       "[427 rows x 3 columns]"
      ]
     },
     "execution_count": 5,
     "metadata": {},
     "output_type": "execute_result"
    }
   ],
   "source": [
    "following_df"
   ]
  },
  {
   "cell_type": "markdown",
   "metadata": {},
   "source": [
    "# Merge and Find"
   ]
  },
  {
   "cell_type": "code",
   "execution_count": 6,
   "metadata": {},
   "outputs": [],
   "source": [
    "# Assume df1 and df2 are your dataframes with user_id column\n",
    "merged = followers_df.merge(following_df, on='user_id', how='outer', suffixes= ('_follower','_following') ,indicator=True)"
   ]
  },
  {
   "cell_type": "code",
   "execution_count": 7,
   "metadata": {},
   "outputs": [],
   "source": [
    "# Filter the merged dataframe by the _merge column\n",
    "left_only = merged[merged['_merge'] == 'left_only'] # People you are not following back\n",
    "right_only = merged[merged['_merge'] == 'right_only'] # People who are not following you\n",
    "\n",
    "# Extract the user_id column as lists\n",
    "you_not_follow = left_only[['user_id', 'user_link_follower','timestamp_follower']]\n",
    "not_follow_you = right_only[['user_id', 'user_link_following','timestamp_following']]\n",
    "\n",
    "# Rename the columns\n",
    "you_not_follow.columns = ['user_link', 'user_id', 'timestamp']\n",
    "not_follow_you.columns = ['user_link', 'user_id', 'timestamp']"
   ]
  },
  {
   "cell_type": "code",
   "execution_count": 8,
   "metadata": {},
   "outputs": [
    {
     "data": {
      "text/plain": [
       "23"
      ]
     },
     "execution_count": 8,
     "metadata": {},
     "output_type": "execute_result"
    }
   ],
   "source": [
    "you_not_follow.shape[0]"
   ]
  },
  {
   "cell_type": "code",
   "execution_count": 9,
   "metadata": {},
   "outputs": [
    {
     "data": {
      "text/plain": [
       "9"
      ]
     },
     "execution_count": 9,
     "metadata": {},
     "output_type": "execute_result"
    }
   ],
   "source": [
    "not_follow_you.shape[0]"
   ]
  }
 ],
 "metadata": {
  "kernelspec": {
   "display_name": "Python 3",
   "language": "python",
   "name": "python3"
  },
  "language_info": {
   "codemirror_mode": {
    "name": "ipython",
    "version": 3
   },
   "file_extension": ".py",
   "mimetype": "text/x-python",
   "name": "python",
   "nbconvert_exporter": "python",
   "pygments_lexer": "ipython3",
   "version": "3.11.0"
  }
 },
 "nbformat": 4,
 "nbformat_minor": 2
}
